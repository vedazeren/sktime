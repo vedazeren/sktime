{
 "cells": [
  {
   "cell_type": "markdown",
   "metadata": {},
   "source": [
    "# Univariate time series classification with sktime\n",
    "\n",
    "In this notebook, we will use sktime for univariate time series classification. Here, we a single time series variables and an associated label for multiple instances. The goal is to find a classifier that can learn the relationship between time series and label and accurately predict the label of new series.\n",
    "\n",
    "When you have multiple time series variables and want to learn the relationship between them and a label, you can take a look at our [multivariate time series classification notebook](https://github.com/alan-turing-institute/sktime/blob/master/examples/03_classification_multivariate.ipynb)."
   ]
  },
  {
   "cell_type": "markdown",
   "metadata": {},
   "source": [
    "## Preliminaries"
   ]
  },
  {
   "cell_type": "code",
   "execution_count": 1,
   "metadata": {
    "pycharm": {
     "is_executing": true
    }
   },
   "outputs": [],
   "source": [
    "import matplotlib.pyplot as plt\n",
    "import numpy as np\n",
    "from sklearn.model_selection import train_test_split\n",
    "from sklearn.pipeline import Pipeline\n",
    "from sklearn.preprocessing import FunctionTransformer\n",
    "from sklearn.tree import DecisionTreeClassifier\n",
    "from sktime.classification.compose import TimeSeriesForestClassifier\n",
    "from sktime.classification.distance_based import KNeighborsTimeSeriesClassifier\n",
    "from sktime.datasets import load_gunpoint\n",
    "from sktime.series_as_features.compose import FeatureUnion\n",
    "from sktime.transformers.series_as_features.compose import RowTransformer\n",
    "from sktime.transformers.series_as_features.reduce import Tabularizer\n",
    "from sktime.transformers.series_as_features.segment import \\\n",
    "    RandomIntervalSegmenter\n",
    "from sktime.utils.time_series import time_series_slope\n",
    "from statsmodels.tsa.ar_model import AutoReg\n",
    "from statsmodels.tsa.stattools import acf"
   ]
  },
  {
   "cell_type": "markdown",
   "metadata": {},
   "source": [
    "## Load data\n",
    "\n",
    "In this notebook, we use the [GunPoint problem](http://timeseriesclassification.com/description.php?Dataset=GunPoint).\n",
    "\n",
    "The GunPoint problem contains univariate tracking data of actors' wrists as they either take a prop gun from a holster, point it, and return it to the holster, or they simply mime the action without the prop. The classification problem is to detect whether a motion trace is a case of _gun_ or _no gun_.\n",
    "\n",
    "The highlighted red section of the series below occurs when an actor returns the gun to the holster. This part of the series is discriminatory because if the gun prop is present then the actor's hand stops suddenly, but if the prop is not present, the actor's hand will not stop abruptly and will subtly continue past their waist due to inertia.\n",
    "\n",
    "More details on how we can find such discriminatory parts of series can be found in our [notebook on shapelets](https://github.com/alan-turing-institute/sktime/blob/master/examples/shapelet_transform.ipynb).\n",
    "\n",
    "![shapelet gun point](img/shapelets_gun_point.PNG)"
   ]
  },
  {
   "cell_type": "code",
   "execution_count": 2,
   "metadata": {},
   "outputs": [
    {
     "name": "stdout",
     "output_type": "stream",
     "text": [
      "(150, 1) (150,) (50, 1) (50,)\n"
     ]
    }
   ],
   "source": [
    "X, y = load_gunpoint(return_X_y=True)\n",
    "X_train, X_test, y_train, y_test = train_test_split(X, y)\n",
    "print(X_train.shape, y_train.shape, X_test.shape, y_test.shape)"
   ]
  },
  {
   "cell_type": "markdown",
   "metadata": {},
   "source": [
    "Throughout sktime, the expected data format is a `pd.DataFrame`, but in a slighly unusual format. A single column can contain not only primitives (floats, integers or strings), but also entire time series in form of a `pd.Series` or `np.array`."
   ]
  },
  {
   "cell_type": "code",
   "execution_count": 3,
   "metadata": {},
   "outputs": [
    {
     "data": {
      "text/html": [
       "<div>\n",
       "<style scoped>\n",
       "    .dataframe tbody tr th:only-of-type {\n",
       "        vertical-align: middle;\n",
       "    }\n",
       "\n",
       "    .dataframe tbody tr th {\n",
       "        vertical-align: top;\n",
       "    }\n",
       "\n",
       "    .dataframe thead th {\n",
       "        text-align: right;\n",
       "    }\n",
       "</style>\n",
       "<table border=\"1\" class=\"dataframe\">\n",
       "  <thead>\n",
       "    <tr style=\"text-align: right;\">\n",
       "      <th></th>\n",
       "      <th>dim_0</th>\n",
       "    </tr>\n",
       "  </thead>\n",
       "  <tbody>\n",
       "    <tr>\n",
       "      <th>84</th>\n",
       "      <td>0     -0.54480\n",
       "1     -0.54495\n",
       "2     -0.54384\n",
       "3...</td>\n",
       "    </tr>\n",
       "    <tr>\n",
       "      <th>34</th>\n",
       "      <td>0     -0.64412\n",
       "1     -0.64101\n",
       "2     -0.63945\n",
       "3...</td>\n",
       "    </tr>\n",
       "    <tr>\n",
       "      <th>45</th>\n",
       "      <td>0     -1.1947\n",
       "1     -1.1886\n",
       "2     -1.1857\n",
       "3   ...</td>\n",
       "    </tr>\n",
       "    <tr>\n",
       "      <th>130</th>\n",
       "      <td>0     -0.92890\n",
       "1     -0.92656\n",
       "2     -0.92615\n",
       "3...</td>\n",
       "    </tr>\n",
       "    <tr>\n",
       "      <th>148</th>\n",
       "      <td>0     -1.2651\n",
       "1     -1.2561\n",
       "2     -1.2594\n",
       "3   ...</td>\n",
       "    </tr>\n",
       "  </tbody>\n",
       "</table>\n",
       "</div>"
      ],
      "text/plain": [
       "                                                 dim_0\n",
       "84   0     -0.54480\n",
       "1     -0.54495\n",
       "2     -0.54384\n",
       "3...\n",
       "34   0     -0.64412\n",
       "1     -0.64101\n",
       "2     -0.63945\n",
       "3...\n",
       "45   0     -1.1947\n",
       "1     -1.1886\n",
       "2     -1.1857\n",
       "3   ...\n",
       "130  0     -0.92890\n",
       "1     -0.92656\n",
       "2     -0.92615\n",
       "3...\n",
       "148  0     -1.2651\n",
       "1     -1.2561\n",
       "2     -1.2594\n",
       "3   ..."
      ]
     },
     "execution_count": 3,
     "metadata": {},
     "output_type": "execute_result"
    }
   ],
   "source": [
    "# univariate time series input data\n",
    "X_train.head()"
   ]
  },
  {
   "cell_type": "code",
   "execution_count": 4,
   "metadata": {},
   "outputs": [
    {
     "data": {
      "image/png": "[encoded data removed]",
      "text/plain": [
       "<Figure size 1152x288 with 1 Axes>"
      ]
     },
     "metadata": {
      "needs_background": "light"
     },
     "output_type": "display_data"
    }
   ],
   "source": [
    "fig, ax = plt.subplots(1, figsize=plt.figaspect(.25))\n",
    "X_train.iloc[0, 0].plot(ax=ax, label=\"no-gun\")\n",
    "X_train.iloc[2, 0].plot(ax=ax, label=\"gun\")\n",
    "plt.legend()\n",
    "ax.set(title=\"Two example time series\");"
   ]
  },
  {
   "cell_type": "code",
   "execution_count": 5,
   "metadata": {},
   "outputs": [
    {
     "data": {
      "text/plain": [
       "array(['1', '2'], dtype=object)"
      ]
     },
     "execution_count": 5,
     "metadata": {},
     "output_type": "execute_result"
    }
   ],
   "source": [
    "# binary target variable\n",
    "np.unique(y_train)"
   ]
  },
  {
   "cell_type": "markdown",
   "metadata": {},
   "source": [
    "## K-nearest-neighbours classifier for time series\n",
    "For time series, the most popular k-nearest-neighbours algorithm is based on dynamic time warping (dtw) distance measure."
   ]
  },
  {
   "cell_type": "code",
   "execution_count": 6,
   "metadata": {},
   "outputs": [
    {
     "data": {
      "text/plain": [
       "0.94"
      ]
     },
     "execution_count": 6,
     "metadata": {},
     "output_type": "execute_result"
    }
   ],
   "source": [
    "knn = KNeighborsTimeSeriesClassifier(metric='dtw')\n",
    "knn.fit(X_train, y_train)\n",
    "knn.score(X_test, y_test)"
   ]
  },
  {
   "cell_type": "markdown",
   "metadata": {},
   "source": [
    "## Composable time-series forest\n",
    "We can specify the time-series tree classifier as a fully modular pipeline using series-to-primitive feature extraction transformers and a final decision tree classifier. For more details, take a look at the [paper](https://www.sciencedirect.com/science/article/pii/S0020025513001473)."
   ]
  },
  {
   "cell_type": "code",
   "execution_count": 7,
   "metadata": {},
   "outputs": [],
   "source": [
    "from sktime.transformers.series_as_features.summarize import RandomIntervalFeatureExtractor"
   ]
  },
  {
   "cell_type": "code",
   "execution_count": 8,
   "metadata": {},
   "outputs": [],
   "source": [
    "steps = [\n",
    "    ('extract', RandomIntervalFeatureExtractor(n_intervals='sqrt', features=[np.mean, np.std, time_series_slope])),\n",
    "    ('clf', DecisionTreeClassifier())\n",
    "]\n",
    "time_series_tree = Pipeline(steps)"
   ]
  },
  {
   "cell_type": "markdown",
   "metadata": {},
   "source": [
    "To better understand the algorithm, we could write it in an even more modular way:\n",
    "\n",
    "```python\n",
    "steps = [\n",
    "    ('segment', RandomIntervalSegmenter(n_intervals='sqrt')),\n",
    "    ('transform', FeatureUnion([\n",
    "        ('mean', RowTransformer(FunctionTransformer(func=np.mean, validate=False))),\n",
    "        ('std', RowTransformer(FunctionTransformer(func=np.std, validate=False))),\n",
    "        ('slope', RowTransformer(FunctionTransformer(func=time_series_slope, validate=False)))\n",
    "    ])),\n",
    "    ('clf', DecisionTreeClassifier())\n",
    "]\n",
    "time_series_tree = Pipeline(steps)\n",
    "```"
   ]
  },
  {
   "cell_type": "markdown",
   "metadata": {},
   "source": [
    "We can direclty fit and evaluate the single time series tree (or pipeline)."
   ]
  },
  {
   "cell_type": "code",
   "execution_count": 9,
   "metadata": {},
   "outputs": [
    {
     "data": {
      "text/plain": [
       "0.92"
      ]
     },
     "execution_count": 9,
     "metadata": {},
     "output_type": "execute_result"
    }
   ],
   "source": [
    "time_series_tree.fit(X_train, y_train)\n",
    "time_series_tree.score(X_test, y_test)"
   ]
  },
  {
   "cell_type": "markdown",
   "metadata": {},
   "source": [
    "For time series forest, we can simply use the single tree as the base estimator in the forest ensemble."
   ]
  },
  {
   "cell_type": "code",
   "execution_count": 10,
   "metadata": {},
   "outputs": [],
   "source": [
    "tsf = TimeSeriesForestClassifier(\n",
    "    estimator=time_series_tree,\n",
    "    n_estimators=100,\n",
    "    criterion='entropy',\n",
    "    bootstrap=True,\n",
    "    oob_score=True,\n",
    "    random_state=1\n",
    ")"
   ]
  },
  {
   "cell_type": "markdown",
   "metadata": {},
   "source": [
    "Fit and obtain the out-of-bag score:"
   ]
  },
  {
   "cell_type": "code",
   "execution_count": 11,
   "metadata": {},
   "outputs": [
    {
     "name": "stdout",
     "output_type": "stream",
     "text": [
      "0.9666666666666667\n"
     ]
    }
   ],
   "source": [
    "tsf.fit(X_train, y_train)\n",
    "\n",
    "if tsf.oob_score:\n",
    "    print(tsf.oob_score_)"
   ]
  },
  {
   "cell_type": "code",
   "execution_count": 12,
   "metadata": {},
   "outputs": [
    {
     "data": {
      "text/plain": [
       "1.0"
      ]
     },
     "execution_count": 12,
     "metadata": {},
     "output_type": "execute_result"
    }
   ],
   "source": [
    "tsf.score(X_test, y_test)"
   ]
  },
  {
   "cell_type": "markdown",
   "metadata": {},
   "source": [
    "We can also obtain feature importances for the different features and intervals that the algorithms looked at and plot them in a feature importance graph over time."
   ]
  },
  {
   "cell_type": "code",
   "execution_count": 13,
   "metadata": {},
   "outputs": [
    {
     "data": {
      "image/png": "[encoded data removed]",
      "text/plain": [
       "<Figure size 1152x288 with 1 Axes>"
      ]
     },
     "metadata": {
      "needs_background": "light"
     },
     "output_type": "display_data"
    }
   ],
   "source": [
    "fi = tsf.feature_importances_\n",
    "fig, ax = plt.subplots(1, figsize=plt.figaspect(.25))\n",
    "fi.plot(ax=ax);"
   ]
  },
  {
   "cell_type": "markdown",
   "metadata": {},
   "source": [
    "### RISE\n",
    "\n",
    "Another popular variant of time series forest is the so-called Random Interval Spectral Ensemble (RISE), which makes use of several series-to-series feature extraction transformers, including:\n",
    "\n",
    "* Fitted auto-regressive coefficients,\n",
    "* Estimated autocorrelation coefficients,\n",
    "* Power spectrum coefficients."
   ]
  },
  {
   "cell_type": "code",
   "execution_count": 14,
   "metadata": {},
   "outputs": [],
   "source": [
    "def ar_coefs(x, maxlag=100):\n",
    "    x = np.asarray(x).ravel()\n",
    "    lags = np.minimum(len(x) - 1, maxlag) // 2\n",
    "    model = AutoReg(endog=x, trend=\"n\", lags=lags)\n",
    "    return model.fit().params.ravel()\n",
    "\n",
    "def acf_coefs(x, maxlag=100):\n",
    "    x = np.asarray(x).ravel()\n",
    "    nlags = np.minimum(len(x) - 1, maxlag)\n",
    "    return acf(x, nlags=nlags, fft=True).ravel()\n",
    "\n",
    "def powerspectrum(x, **kwargs):\n",
    "    x = np.asarray(x).ravel()\n",
    "    fft = np.fft.fft(x)\n",
    "    ps = fft.real * fft.real + fft.imag * fft.imag\n",
    "    return ps[:ps.shape[0] // 2].ravel()"
   ]
  },
  {
   "cell_type": "markdown",
   "metadata": {},
   "source": [
    "The full pipeline of a single tree in RISE is then specified as follows:"
   ]
  },
  {
   "cell_type": "code",
   "execution_count": 15,
   "metadata": {},
   "outputs": [
    {
     "data": {
      "text/plain": [
       "1.0"
      ]
     },
     "execution_count": 15,
     "metadata": {},
     "output_type": "execute_result"
    }
   ],
   "source": [
    "steps = [\n",
    "    ('segment', RandomIntervalSegmenter(n_intervals=1, min_length=5)),\n",
    "    ('transform', FeatureUnion([\n",
    "        ('ar', RowTransformer(FunctionTransformer(func=ar_coefs, validate=False))),\n",
    "        ('acf', RowTransformer(FunctionTransformer(func=acf_coefs, validate=False))),\n",
    "        ('ps', RowTransformer(FunctionTransformer(func=powerspectrum, validate=False)))\n",
    "    ])),\n",
    "    ('tabularise', Tabularizer()),\n",
    "    ('clf', DecisionTreeClassifier())\n",
    "]\n",
    "rise_tree = Pipeline(steps)\n",
    "\n",
    "rise = TimeSeriesForestClassifier(estimator=rise_tree, n_estimators=50)\n",
    "rise.fit(X_train, y_train)\n",
    "rise.score(X_test, y_test)"
   ]
  },
  {
   "cell_type": "markdown",
   "metadata": {},
   "source": [
    "## Other classifiers\n",
    "To find out what other algorithms we have implemented in sktime, you can use our utility function:"
   ]
  },
  {
   "cell_type": "code",
   "execution_count": 16,
   "metadata": {},
   "outputs": [
    {
     "data": {
      "text/plain": [
       "[('BOSSEnsemble', sktime.classification.dictionary_based._boss.BOSSEnsemble),\n",
       " ('BOSSIndividual',\n",
       "  sktime.classification.dictionary_based._boss.BOSSIndividual),\n",
       " ('ColumnEnsembleClassifier',\n",
       "  sktime.classification.compose._column_ensemble.ColumnEnsembleClassifier),\n",
       " ('ElasticEnsemble',\n",
       "  sktime.classification.distance_based._elastic_ensemble.ElasticEnsemble),\n",
       " ('KNeighborsTimeSeriesClassifier',\n",
       "  sktime.classification.distance_based._time_series_neighbors.KNeighborsTimeSeriesClassifier),\n",
       " ('MrSEQLClassifier',\n",
       "  sktime.classification.shapelet_based.mrseql.mrseql.MrSEQLClassifier),\n",
       " ('ProximityForest',\n",
       "  sktime.classification.distance_based._proximity_forest.ProximityForest),\n",
       " ('ProximityStump',\n",
       "  sktime.classification.distance_based._proximity_forest.ProximityStump),\n",
       " ('ProximityTree',\n",
       "  sktime.classification.distance_based._proximity_forest.ProximityTree),\n",
       " ('RandomIntervalSpectralForest',\n",
       "  sktime.classification.frequency_based._rise.RandomIntervalSpectralForest),\n",
       " ('ShapeletTransformClassifier',\n",
       "  sktime.classification.shapelet_based._stc.ShapeletTransformClassifier),\n",
       " ('TimeSeriesForest',\n",
       "  sktime.classification.interval_based._tsf.TimeSeriesForest),\n",
       " ('TimeSeriesForestClassifier',\n",
       "  sktime.classification.compose._ensemble.TimeSeriesForestClassifier)]"
      ]
     },
     "execution_count": 16,
     "metadata": {},
     "output_type": "execute_result"
    }
   ],
   "source": [
    "from sktime.utils import all_estimators\n",
    "all_estimators(estimator_type=\"classifier\")"
   ]
  }
 ],
 "metadata": {
  "kernelspec": {
   "display_name": "Python 3",
   "language": "python",
   "name": "python3"
  },
  "language_info": {
   "codemirror_mode": {
    "name": "ipython",
    "version": 3
   },
   "file_extension": ".py",
   "mimetype": "text/x-python",
   "name": "python",
   "nbconvert_exporter": "python",
   "pygments_lexer": "ipython3",
   "version": "3.7.7"
  }
 },
 "nbformat": 4,
 "nbformat_minor": 2
}
